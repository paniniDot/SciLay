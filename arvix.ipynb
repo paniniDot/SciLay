{
 "cells": [
  {
   "cell_type": "code",
   "execution_count": 6,
   "metadata": {},
   "outputs": [
    {
     "name": "stdout",
     "output_type": "stream",
     "text": [
      "Note: you may need to restart the kernel to use updated packages.\n"
     ]
    },
    {
     "name": "stderr",
     "output_type": "stream",
     "text": [
      "ERROR: Could not find a version that satisfies the requirement arvix (from versions: none)\n",
      "ERROR: No matching distribution found for arvix\n"
     ]
    }
   ],
   "source": [
    "%pip install arxiv\n",
    "%pip install PyPDF2"
   ]
  },
  {
   "cell_type": "code",
   "execution_count": 25,
   "metadata": {},
   "outputs": [
    {
     "name": "stdout",
     "output_type": "stream",
     "text": [
      "downloading: Teaching Computational Neuroscience\n",
      "downloading: A Paradigm Shift in Neuroscience Driven by Big Data: State of art, Challenges, and Proof of Concept\n",
      "downloading: What can topology tell us about the neural code?\n",
      "downloading: Is neuroscience facing up to statistical power?\n",
      "downloading: The Roles of Supervised Machine Learning in Systems Neuroscience\n",
      "downloading: Connecting levels of analysis in the computational era\n",
      "downloading: Cortex simulation system proposal using distributed computer network environments\n",
      "downloading: An overview of open source Deep Learning-based libraries for Neuroscience\n",
      "downloading: Multilayer Brain Networks\n",
      "downloading: An interdisciplinary approach to high school curriculum development: Swarming Powered by Neuroscience\n"
     ]
    }
   ],
   "source": [
    "import arxiv\n",
    "\n",
    "search = arxiv.Search(\n",
    "    query=\"neuroscience\",\n",
    "    max_results=10,\n",
    ")\n",
    "\n",
    "for paper in search.results():\n",
    "    print(f\"downloading: {paper.title}\")\n",
    "    paper.download_pdf(dirpath='./downloaded_papers')\n"
   ]
  },
  {
   "cell_type": "code",
   "execution_count": null,
   "metadata": {},
   "outputs": [],
   "source": [
    "from PyPDF2 import PdfReader\n",
    "\n",
    "reader = PdfReader(\"transformers.pdf\")\n",
    "text = [page.extract_text() for page in reader.pages]"
   ]
  }
 ],
 "metadata": {
  "kernelspec": {
   "display_name": "Python 3",
   "language": "python",
   "name": "python3"
  },
  "language_info": {
   "codemirror_mode": {
    "name": "ipython",
    "version": 3
   },
   "file_extension": ".py",
   "mimetype": "text/x-python",
   "name": "python",
   "nbconvert_exporter": "python",
   "pygments_lexer": "ipython3",
   "version": "3.11.4"
  },
  "orig_nbformat": 4
 },
 "nbformat": 4,
 "nbformat_minor": 2
}
