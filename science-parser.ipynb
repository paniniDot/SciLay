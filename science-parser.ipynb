{
 "cells": [
  {
   "cell_type": "markdown",
   "metadata": {},
   "source": [
    "# Science Parser\n",
    "Per l'estrazione di file testuali strutturati (i.e. JSON) da file PDF, si è utilizzato il tool [science-parse](https://github.com/allenai/science-parse) di Allen Institute for Artificial Intelligence (AI2). Questo tool è stato scelto in quanto permette di estrarre informazioni strutturate da file PDF, come ad esempio le sezioni, le citazioni, le immagini, le tabelle, i riferimenti bibliografici, ecc."
   ]
  },
  {
   "cell_type": "code",
   "execution_count": null,
   "metadata": {},
   "outputs": [],
   "source": [
    "%pip install science_parse_api"
   ]
  },
  {
   "cell_type": "markdown",
   "metadata": {},
   "source": [
    "# Requirements\n",
    "Per poter eseguire correttamente il codice è necessario avviare un server in un ambiente di esecuzione locale. Nel mio caso uso docker, avviando il server con il seguente comando"
   ]
  },
  {
   "cell_type": "code",
   "execution_count": null,
   "metadata": {},
   "outputs": [],
   "source": [
    "%%bash\n",
    "docker run -p 127.0.0.1:8080:8080 --rm --init ucrel/ucrel-science-parse:3.0.1"
   ]
  },
  {
   "cell_type": "code",
   "execution_count": null,
   "metadata": {},
   "outputs": [],
   "source": [
    "from pathlib import Path\n",
    "\n",
    "pdf_path = Path('transformers.pdf')\n",
    "pdf_path = pdf_path.resolve()"
   ]
  },
  {
   "cell_type": "code",
   "execution_count": null,
   "metadata": {},
   "outputs": [],
   "source": [
    "from science_parse_api.api import parse_pdf\n",
    "\n",
    "host = 'http://127.0.0.1'\n",
    "port = '8080'\n",
    "output_dict = parse_pdf(host, pdf_path, port=port)\n",
    "\n",
    "with open('outputs/file.json', 'w') as f:\n",
    "    f.write(str(output_dict))"
   ]
  }
 ],
 "metadata": {
  "kernelspec": {
   "display_name": "Python 3",
   "language": "python",
   "name": "python3"
  },
  "language_info": {
   "codemirror_mode": {
    "name": "ipython",
    "version": 3
   },
   "file_extension": ".py",
   "mimetype": "text/x-python",
   "name": "python",
   "nbconvert_exporter": "python",
   "pygments_lexer": "ipython3",
   "version": "3.11.4"
  },
  "orig_nbformat": 4
 },
 "nbformat": 4,
 "nbformat_minor": 2
}
