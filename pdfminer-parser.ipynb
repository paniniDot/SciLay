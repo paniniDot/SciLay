{
 "cells": [
  {
   "cell_type": "code",
   "execution_count": 1,
   "metadata": {},
   "outputs": [
    {
     "name": "stdout",
     "output_type": "stream",
     "text": [
      "Requirement already satisfied: pdfminer.six in c:\\users\\pnmat\\appdata\\local\\packages\\pythonsoftwarefoundation.python.3.11_qbz5n2kfra8p0\\localcache\\local-packages\\python311\\site-packages (20221105)\n",
      "Requirement already satisfied: charset-normalizer>=2.0.0 in c:\\users\\pnmat\\appdata\\local\\packages\\pythonsoftwarefoundation.python.3.11_qbz5n2kfra8p0\\localcache\\local-packages\\python311\\site-packages (from pdfminer.six) (3.2.0)\n",
      "Requirement already satisfied: cryptography>=36.0.0 in c:\\users\\pnmat\\appdata\\local\\packages\\pythonsoftwarefoundation.python.3.11_qbz5n2kfra8p0\\localcache\\local-packages\\python311\\site-packages (from pdfminer.six) (41.0.2)\n",
      "Requirement already satisfied: cffi>=1.12 in c:\\users\\pnmat\\appdata\\local\\packages\\pythonsoftwarefoundation.python.3.11_qbz5n2kfra8p0\\localcache\\local-packages\\python311\\site-packages (from cryptography>=36.0.0->pdfminer.six) (1.15.1)\n",
      "Requirement already satisfied: pycparser in c:\\users\\pnmat\\appdata\\local\\packages\\pythonsoftwarefoundation.python.3.11_qbz5n2kfra8p0\\localcache\\local-packages\\python311\\site-packages (from cffi>=1.12->cryptography>=36.0.0->pdfminer.six) (2.21)\n",
      "Note: you may need to restart the kernel to use updated packages.\n"
     ]
    }
   ],
   "source": [
    "%pip install pdfminer.six"
   ]
  },
  {
   "cell_type": "code",
   "execution_count": 2,
   "metadata": {},
   "outputs": [],
   "source": [
    "from pdfminer.high_level import extract_text\n",
    "import re\n",
    "\n",
    "def extract_main_text_from_pdf(pdf_path):\n",
    "    # Estrae il testo completo dal PDF\n",
    "    full_text = extract_text(pdf_path)\n",
    "\n",
    "    # Rimuovi header, note a piè di pagina e altre sezioni indesiderate\n",
    "    main_text = \"\"\n",
    "\n",
    "    # Esempio: Rimuovi le note a piè di pagina (questo è solo un esempio semplice)\n",
    "    # Potresti dover personalizzare le espressioni regolari o altre logiche\n",
    "    pattern = r\"\\d+\\s*©\\s*[\\w\\s]+\\s*\\d+\"  # Esempio per rimuovere il numero di pagina con il simbolo del copyright\n",
    "    main_text = re.sub(pattern, \"\", full_text)\n",
    "\n",
    "    # Altre operazioni di pulizia del testo, se necessario\n",
    "    # Ad esempio, puoi rimuovere altre sezioni specifiche utilizzando espressioni regolari o logiche di parsing\n",
    "\n",
    "    return main_text\n",
    "\n",
    "# Esempio di utilizzo:\n",
    "pdf_path = \"transformers.pdf\"\n",
    "main_text = extract_main_text_from_pdf(pdf_path)\n",
    "\n",
    "# Scrivi il testo estratto su un file\n",
    "with open(\"pdfminer-outputs/test.txt\", \"w\") as file:\n",
    "    file.write(main_text)\n"
   ]
  },
  {
   "cell_type": "code",
   "execution_count": null,
   "metadata": {},
   "outputs": [],
   "source": []
  }
 ],
 "metadata": {
  "kernelspec": {
   "display_name": "myenv",
   "language": "python",
   "name": "python3"
  },
  "language_info": {
   "codemirror_mode": {
    "name": "ipython",
    "version": 3
   },
   "file_extension": ".py",
   "mimetype": "text/x-python",
   "name": "python",
   "nbconvert_exporter": "python",
   "pygments_lexer": "ipython3",
   "version": "3.11.4"
  },
  "orig_nbformat": 4
 },
 "nbformat": 4,
 "nbformat_minor": 2
}
